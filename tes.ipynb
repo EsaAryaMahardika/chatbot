{
 "cells": [
  {
   "cell_type": "code",
   "execution_count": 2,
   "metadata": {},
   "outputs": [],
   "source": [
    "import nltk\n",
    "from nltk.corpus import stopwords\n",
    "from nltk.stem import PorterStemmer\n",
    "import pickle\n",
    "import numpy as np\n",
    "from keras.models import load_model\n",
    "import json\n",
    "import random\n",
    "import re\n",
    "model = load_model('model/models.keras')\n",
    "stop_words = set(stopwords.words(\"indonesian\"))\n",
    "stemmer = PorterStemmer()\n",
    "intents = json.loads(open('model/intents.json').read())\n",
    "words = pickle.load(open('model/texts.pkl','rb'))\n",
    "classes = pickle.load(open('model/labels.pkl','rb'))\n",
    "with open('model/baku.json') as f:\n",
    "    normalization_data = json.load(f)"
   ]
  },
  {
   "cell_type": "code",
   "execution_count": 3,
   "metadata": {},
   "outputs": [],
   "source": [
    "def normalize_word(word):\n",
    "    return normalization_data.get(word, word)\n",
    "\n",
    "# NLP\n",
    "def nlp_steps(sentence):\n",
    "    # Case Folding\n",
    "    sentence = sentence.lower()\n",
    "    # Normalization\n",
    "    sentence_words = [normalize_word(sentence) for word in sentence]\n",
    "    # Tokenization\n",
    "    sentence_words = nltk.word_tokenize(sentence)\n",
    "    # Menghapus karakter spesial\n",
    "    sentence_words = [re.sub(r'[^\\w\\s]', '', word) for word in sentence_words]\n",
    "    # Menghapus angka\n",
    "    sentence_words = [re.sub(r'\\d+', '', word) for word in sentence_words]\n",
    "    # Filtering (menghapus stop words)\n",
    "    sentence_words = [word for word in sentence_words if word not in stop_words]\n",
    "    # Stemming\n",
    "    sentence_words = [stemmer.stem(word) for word in sentence_words]\n",
    "    return sentence_words\n",
    "\n",
    "# Bag of Words\n",
    "def bow(sentence, words, show_details=True):\n",
    "    sentence_words = nlp_steps(sentence)\n",
    "    bag = [0]*len(words)  \n",
    "    for s in sentence_words:\n",
    "        for i,w in enumerate(words):\n",
    "            if w == s: \n",
    "                bag[i] = 1\n",
    "                if show_details:\n",
    "                    print (\"found in bag: %s\" % w)\n",
    "    return(np.array(bag))\n",
    "\n",
    "# Untuk memprediksi maksud/keinginan dari kata - kata inputan pengguna dengan model yang sudah dibuat\n",
    "def predict_class(sentence, model):\n",
    "    p = bow(sentence, words, show_details=False)\n",
    "    res = model.predict(np.array([p]))[0]\n",
    "    ERROR_THRESHOLD = 0.25\n",
    "    results = [[i, r] for i, r in enumerate(res) if r > ERROR_THRESHOLD]\n",
    "    if results:\n",
    "        results.sort(key=lambda x: x[1], reverse=True)\n",
    "        return_list = []\n",
    "        for r in results:\n",
    "            return_list.append({\"intent\": classes[r[0]], \"probability\": str(r[1])})\n",
    "        return return_list\n",
    "    else:\n",
    "        return [{\"intent\": \"fallback\", \"probability\": \"1.0\"}]\n",
    "\n",
    "# Untuk memilih jawaban yang sesuai dengan dataset\n",
    "def getResponse(ints, intents_json):\n",
    "    tag = ints[0]['intent']\n",
    "    list_of_intents = intents_json['intents']\n",
    "    for i in list_of_intents:\n",
    "        if(i['tag']== tag):\n",
    "            result = random.choice(i['responses'])\n",
    "            break\n",
    "    return result\n",
    "\n",
    "# Untuk menampilkan hasil getResponse    \n",
    "def chatbot_response(msg):\n",
    "    ints = predict_class(msg, model)\n",
    "    res = getResponse(ints, intents)\n",
    "    return res"
   ]
  },
  {
   "cell_type": "code",
   "execution_count": 4,
   "metadata": {},
   "outputs": [
    {
     "name": "stdout",
     "output_type": "stream",
     "text": [
      "\u001b[1m1/1\u001b[0m \u001b[32m━━━━━━━━━━━━━━━━━━━━\u001b[0m\u001b[37m\u001b[0m \u001b[1m0s\u001b[0m 337ms/step\n"
     ]
    },
    {
     "data": {
      "text/plain": [
       "'1. Madu: Gunakan madu untuk mengobati batuk, campurkan 2 sendok teh dengan air hangat atau teh herbal. Minum ramuan ini sekali atau dua kali sehari. 2. Jahe: Seduh teh jahe yang menenangkan dengan menambahkan 20â€“40 gram irisan jahe segar ke dalam secangkir air panas. Biarkan terendam selama beberapa menit sebelum diminum. Tambahkan madu atau jus lemon untuk meningkatkan rasa dan semakin meredakan batuk. 3. Air: Tetap terhidrasi sangat penting bagi mereka yang menderita batuk atau pilek. Penelitian menunjukkan bahwa meminum air pada suhu ruangan dapat meredakan batuk, pilek, dan bersin.'"
      ]
     },
     "execution_count": 4,
     "metadata": {},
     "output_type": "execute_result"
    }
   ],
   "source": [
    "chatbot_response(\"Saya sudah batuk selama 3 hari\")"
   ]
  }
 ],
 "metadata": {
  "kernelspec": {
   "display_name": "myenv",
   "language": "python",
   "name": "python3"
  },
  "language_info": {
   "codemirror_mode": {
    "name": "ipython",
    "version": 3
   },
   "file_extension": ".py",
   "mimetype": "text/x-python",
   "name": "python",
   "nbconvert_exporter": "python",
   "pygments_lexer": "ipython3",
   "version": "3.12.4"
  },
  "orig_nbformat": 4
 },
 "nbformat": 4,
 "nbformat_minor": 2
}
