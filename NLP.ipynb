{
 "cells": [
  {
   "cell_type": "code",
   "execution_count": 1,
   "metadata": {},
   "outputs": [],
   "source": [
    "import nltk\n",
    "from nltk.corpus import stopwords\n",
    "from Sastrawi.Stemmer.StemmerFactory import StemmerFactory\n",
    "import pickle\n",
    "import numpy as np\n",
    "from keras.models import load_model\n",
    "import json\n",
    "import random\n",
    "import re\n",
    "factory = StemmerFactory()\n",
    "stemmer = factory.create_stemmer()\n",
    "model = load_model('model/models.keras')\n",
    "stop_words = set(stopwords.words(\"indonesian\"))\n",
    "intents = json.loads(open('model/intents.json').read())\n",
    "words = pickle.load(open('model/texts.pkl','rb'))\n",
    "classes = pickle.load(open('model/labels.pkl','rb'))"
   ]
  },
  {
   "cell_type": "code",
   "execution_count": 30,
   "metadata": {},
   "outputs": [],
   "source": [
    "with open('model/baku.json') as f:\n",
    "    normalization_data = json.load(f)\n",
    "# Normalization\n",
    "def normalize_word(word):\n",
    "    return normalization_data.get(word, word)\n",
    "# NLP\n",
    "def nlp_steps(sentence):\n",
    "    sentence = sentence.lower() # Case Folding\n",
    "    sentence_words = nltk.word_tokenize(sentence) # Tokenization\n",
    "    sentence_words = [normalize_word(word.lower()) for word in sentence_words] # Normalization\n",
    "    sentence_words = [re.sub(r'[?!]', '', word) for word in sentence_words] # Menghapus karakter spesial\n",
    "    sentence_words = [re.sub(r'\\d+', '', word) for word in sentence_words] # Menghapus angka\n",
    "    sentence_words = [word for word in sentence_words if word not in stop_words] # Filtering (menghapus stop words)\n",
    "    sentence_words = [stemmer.stem(word) for word in sentence_words] # Stemming\n",
    "    return sentence_words\n",
    "    # return sentence\n",
    "\n",
    "# Bag of Words\n",
    "def bow(sentence, words, show_details=True):\n",
    "    sentence_words = nlp_steps(sentence)\n",
    "    bag = [0]*len(words)  \n",
    "    for s in sentence_words:\n",
    "        for i,w in enumerate(words):\n",
    "            if w == s: \n",
    "                bag[i] = 1\n",
    "    return(np.array(bag))\n",
    "\n",
    "# Untuk menghitung probabilitas hasil BoW menggunakan model yang sudah dibuat dan mengurutkan probabilitas tertinggi ke terendah\n",
    "def predict_class(sentence, model):\n",
    "    p = bow(sentence, words)\n",
    "    res = model.predict(p.reshape(1, 1, -1))[0]\n",
    "    ERROR_THRESHOLD = 0.01  # Ambang batas probabilitas\n",
    "    results = [[i, r] for i, r in enumerate(res) if r > ERROR_THRESHOLD]\n",
    "    # results = [[i, r] for i, r in enumerate(res)]\n",
    "    if not results:\n",
    "        return [{\"intent\": \"fallback\", \"probability\": \"0\"}]\n",
    "    results.sort(key=lambda x: x[1], reverse=True)\n",
    "    return [{\"intent\": classes[r[0]], \"probability\": str(r[1])} for r in results]\n",
    "\n",
    "# Untuk memilih jawaban yang sesuai dengan dataset berdasarkan hasil predict tertinggi\n",
    "def getResponse(ints, intents_json):\n",
    "    tag = ints[0]['intent']\n",
    "    list_of_intents = intents_json['intents']\n",
    "    for i in list_of_intents:\n",
    "        if(i['tag']== tag):\n",
    "            result = random.choice(i['responses'])\n",
    "            break\n",
    "    return result\n",
    "\n",
    "# Untuk menampilkan hasil getResponse    \n",
    "def chatbot_response(msg):\n",
    "    ints = predict_class(msg, model)\n",
    "    res = getResponse(ints, intents)\n",
    "    return res"
   ]
  },
  {
   "cell_type": "code",
   "execution_count": 33,
   "metadata": {},
   "outputs": [
    {
     "name": "stdout",
     "output_type": "stream",
     "text": [
      "\u001b[1m1/1\u001b[0m \u001b[32m━━━━━━━━━━━━━━━━━━━━\u001b[0m\u001b[37m\u001b[0m \u001b[1m0s\u001b[0m 47ms/step\n"
     ]
    },
    {
     "data": {
      "text/plain": [
       "[{'intent': 'Demam', 'probability': '0.53078634'},\n",
       " {'intent': 'Jadwal', 'probability': '0.04224621'},\n",
       " {'intent': 'Malam', 'probability': '0.037585154'},\n",
       " {'intent': 'gigitan ular', 'probability': '0.035579387'},\n",
       " {'intent': 'Dokter', 'probability': '0.032454737'},\n",
       " {'intent': 'Tersedak', 'probability': '0.0304764'},\n",
       " {'intent': 'Diare', 'probability': '0.030214284'},\n",
       " {'intent': 'Keseleo', 'probability': '0.02906099'},\n",
       " {'intent': 'Batuk', 'probability': '0.017715365'},\n",
       " {'intent': 'Masalah Pencernaan', 'probability': '0.016060906'},\n",
       " {'intent': 'Sore', 'probability': '0.015846314'},\n",
       " {'intent': 'Alamat', 'probability': '0.014135708'},\n",
       " {'intent': 'kejang', 'probability': '0.01241035'},\n",
       " {'intent': 'Siang', 'probability': '0.012111715'},\n",
       " {'intent': 'Pendarahan Normal', 'probability': '0.011867524'},\n",
       " {'intent': 'gigitan binatang', 'probability': '0.011241016'},\n",
       " {'intent': 'Pilek', 'probability': '0.010426451'}]"
      ]
     },
     "execution_count": 33,
     "metadata": {},
     "output_type": "execute_result"
    }
   ],
   "source": [
    "predict_class(\"Saya punya gudik dan saya merasa demam\", model)"
   ]
  }
 ],
 "metadata": {
  "kernelspec": {
   "display_name": "myenv",
   "language": "python",
   "name": "python3"
  },
  "language_info": {
   "codemirror_mode": {
    "name": "ipython",
    "version": 3
   },
   "file_extension": ".py",
   "mimetype": "text/x-python",
   "name": "python",
   "nbconvert_exporter": "python",
   "pygments_lexer": "ipython3",
   "version": "3.12.4"
  },
  "orig_nbformat": 4
 },
 "nbformat": 4,
 "nbformat_minor": 2
}
